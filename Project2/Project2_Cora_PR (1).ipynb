{
  "cells": [
    {
      "cell_type": "code",
      "execution_count": 1,
      "metadata": {
        "id": "0L64hXD6YlXF"
      },
      "outputs": [],
      "source": [
        "import numpy as np\n",
        "import os\n",
        "import networkx as nx\n",
        "import random as rand\n",
        "#from random import sample\n",
        "#from random import random\n",
        "from sklearn.model_selection import train_test_split\n",
        "import pandas as pd\n",
        "from sklearn.metrics import accuracy_score\n",
        "from sklearn.metrics import classification_report\n",
        "from sklearn.metrics.pairwise import cosine_similarity\n",
        "from numpy import dot\n",
        "from numpy.linalg import norm\n",
        "\n",
        "\n",
        "from collections import Counter\n",
        "import matplotlib.pyplot as plt"
      ]
    },
    {
      "cell_type": "code",
      "execution_count": null,
      "metadata": {
        "colab": {
          "base_uri": "https://localhost:8080/",
          "height": 200
        },
        "id": "SaWpNkACxwm7",
        "outputId": "c02fbbd4-9ecb-43bd-a9d2-a1b3dba73bdc"
      },
      "outputs": [],
      "source": [
        "all_data = []\n",
        "all_edges = []\n",
        "\n",
        "with open(\"cora.content\",'r') as f:\n",
        "  all_data.extend(f.read().splitlines())\n",
        "with open(\"cora.cites\",'r') as f:\n",
        "  all_edges.extend(f.read().splitlines())\n",
        "\n"
      ]
    },
    {
      "cell_type": "code",
      "execution_count": 3,
      "metadata": {
        "colab": {
          "base_uri": "https://localhost:8080/"
        },
        "id": "CqznMEgCx3E8",
        "outputId": "d906af4a-0e8b-4a4e-ecc3-495184ab40dc"
      },
      "outputs": [
        {
          "data": {
            "text/plain": [
              "{'Case_Based': 0,\n",
              " 'Genetic_Algorithms': 1,\n",
              " 'Neural_Networks': 2,\n",
              " 'Probabilistic_Methods': 3,\n",
              " 'Reinforcement_Learning': 4,\n",
              " 'Rule_Learning': 5,\n",
              " 'Theory': 6}"
            ]
          },
          "execution_count": 3,
          "metadata": {},
          "output_type": "execute_result"
        }
      ],
      "source": [
        "categories =  ['Reinforcement_Learning', 'Theory', 'Case_Based', 'Genetic_Algorithms', 'Probabilistic_Methods', 'Neural_Networks', 'Rule_Learning']\n",
        "sorted(categories)\n",
        "label_encoder = {}\n",
        "i = 0\n",
        "for cat in sorted(categories):\n",
        "  label_encoder[cat] = i\n",
        "  i +=1\n",
        "label_encoder"
      ]
    },
    {
      "cell_type": "code",
      "execution_count": 4,
      "metadata": {
        "colab": {
          "base_uri": "https://localhost:8080/"
        },
        "id": "aq1OnH9lx47a",
        "outputId": "14c39187-7092-4274-8f38-76a77397dbe8"
      },
      "outputs": [
        {
          "name": "stdout",
          "output_type": "stream",
          "text": [
            "X shape:  (2708, 1433)\n",
            "\n",
            "Number of nodes (N):  2708\n",
            "\n",
            "Number of features (F) of each node:  1433\n",
            "\n",
            "Categories:  {0, 1, 2, 3, 4, 5, 6}\n",
            "\n",
            "Number of classes:  7\n"
          ]
        }
      ],
      "source": [
        "#parse the data\n",
        "labels = []\n",
        "nodes = []\n",
        "X = []\n",
        "element_to_ind  = {}\n",
        "\n",
        "for i,data in enumerate(all_data):\n",
        "    elements = data.split('\\t')\n",
        "    labels.append(label_encoder[elements[-1]])\n",
        "    X.append(elements[1:-1])\n",
        "    nodes.append(elements[0])\n",
        "    element_to_ind[elements[0]]= i\n",
        "X = np.array(X,dtype=int)\n",
        "N = X.shape[0] #the number of nodes\n",
        "F = X.shape[1] #the size of node features\n",
        "print('X shape: ', X.shape)\n",
        "\n",
        "\n",
        "#parse the edge\n",
        "edge_list=[]\n",
        "for edge in all_edges:\n",
        "    e = edge.split('\\t')\n",
        "    edge_list.append((e[0],e[1]))\n",
        "\n",
        "print('\\nNumber of nodes (N): ', N)\n",
        "print('\\nNumber of features (F) of each node: ', F)\n",
        "print('\\nCategories: ', set(labels))\n",
        "\n",
        "num_classes = len(set(labels))\n",
        "print('\\nNumber of classes: ', num_classes)"
      ]
    },
    {
      "cell_type": "code",
      "execution_count": 5,
      "metadata": {
        "colab": {
          "base_uri": "https://localhost:8080/"
        },
        "id": "7mE0s0BIx7r7",
        "outputId": "5b0395a4-4862-480f-da41-67ba9843896b"
      },
      "outputs": [
        {
          "name": "stdout",
          "output_type": "stream",
          "text": [
            "Graph info:  Graph with 2708 nodes and 5278 edges\n"
          ]
        }
      ],
      "source": [
        "G = nx.Graph()\n",
        "G.add_nodes_from(nodes)\n",
        "G.add_edges_from(edge_list)\n",
        "G = nx.relabel_nodes(G, element_to_ind)\n",
        "print('Graph info: ', G)"
      ]
    },
    {
      "cell_type": "code",
      "execution_count": 6,
      "metadata": {
        "colab": {
          "base_uri": "https://localhost:8080/"
        },
        "id": "sTdY1wE7x89z",
        "outputId": "6d2ac78a-6f91-49a0-e834-06432b34ea01"
      },
      "outputs": [
        {
          "name": "stdout",
          "output_type": "stream",
          "text": [
            "2708\n"
          ]
        },
        {
          "data": {
            "text/plain": [
              "[258, 544, 8, 435, 14]"
            ]
          },
          "execution_count": 6,
          "metadata": {},
          "output_type": "execute_result"
        }
      ],
      "source": [
        "nodes = list(G.nodes)\n",
        "print(len(nodes))\n",
        "list(G.neighbors(0))"
      ]
    },
    {
      "cell_type": "code",
      "execution_count": 7,
      "metadata": {
        "colab": {
          "base_uri": "https://localhost:8080/",
          "height": 224
        },
        "id": "pM3NtKuvx-B1",
        "outputId": "1bc2e0fb-4d77-4332-8f54-f78934c717c3"
      },
      "outputs": [
        {
          "name": "stdout",
          "output_type": "stream",
          "text": [
            "2708\n"
          ]
        },
        {
          "data": {
            "text/html": [
              "\n",
              "\n",
              "  <div id=\"df-209268a7-2a53-4936-b8ca-a10736560000\">\n",
              "    <div class=\"colab-df-container\">\n",
              "      <div>\n",
              "<style scoped>\n",
              "    .dataframe tbody tr th:only-of-type {\n",
              "        vertical-align: middle;\n",
              "    }\n",
              "\n",
              "    .dataframe tbody tr th {\n",
              "        vertical-align: top;\n",
              "    }\n",
              "\n",
              "    .dataframe thead th {\n",
              "        text-align: right;\n",
              "    }\n",
              "</style>\n",
              "<table border=\"1\" class=\"dataframe\">\n",
              "  <thead>\n",
              "    <tr style=\"text-align: right;\">\n",
              "      <th></th>\n",
              "      <th>node</th>\n",
              "      <th>label</th>\n",
              "      <th>features</th>\n",
              "    </tr>\n",
              "  </thead>\n",
              "  <tbody>\n",
              "    <tr>\n",
              "      <th>0</th>\n",
              "      <td>0</td>\n",
              "      <td>2</td>\n",
              "      <td>[0, 0, 0, 0, 0, 0, 0, 0, 0, 0, 0, 0, 0, 0, 0, ...</td>\n",
              "    </tr>\n",
              "    <tr>\n",
              "      <th>1</th>\n",
              "      <td>1</td>\n",
              "      <td>5</td>\n",
              "      <td>[0, 0, 0, 0, 0, 0, 0, 0, 0, 0, 0, 0, 1, 0, 0, ...</td>\n",
              "    </tr>\n",
              "    <tr>\n",
              "      <th>2</th>\n",
              "      <td>2</td>\n",
              "      <td>4</td>\n",
              "      <td>[0, 0, 0, 0, 0, 0, 0, 0, 0, 0, 0, 0, 0, 0, 0, ...</td>\n",
              "    </tr>\n",
              "    <tr>\n",
              "      <th>3</th>\n",
              "      <td>3</td>\n",
              "      <td>4</td>\n",
              "      <td>[0, 0, 0, 0, 0, 0, 0, 0, 0, 0, 0, 0, 0, 0, 0, ...</td>\n",
              "    </tr>\n",
              "    <tr>\n",
              "      <th>4</th>\n",
              "      <td>4</td>\n",
              "      <td>3</td>\n",
              "      <td>[0, 0, 0, 0, 0, 0, 0, 0, 0, 0, 0, 0, 0, 0, 0, ...</td>\n",
              "    </tr>\n",
              "  </tbody>\n",
              "</table>\n",
              "</div>\n",
              "      <button class=\"colab-df-convert\" onclick=\"convertToInteractive('df-209268a7-2a53-4936-b8ca-a10736560000')\"\n",
              "              title=\"Convert this dataframe to an interactive table.\"\n",
              "              style=\"display:none;\">\n",
              "\n",
              "  <svg xmlns=\"http://www.w3.org/2000/svg\" height=\"24px\"viewBox=\"0 0 24 24\"\n",
              "       width=\"24px\">\n",
              "    <path d=\"M0 0h24v24H0V0z\" fill=\"none\"/>\n",
              "    <path d=\"M18.56 5.44l.94 2.06.94-2.06 2.06-.94-2.06-.94-.94-2.06-.94 2.06-2.06.94zm-11 1L8.5 8.5l.94-2.06 2.06-.94-2.06-.94L8.5 2.5l-.94 2.06-2.06.94zm10 10l.94 2.06.94-2.06 2.06-.94-2.06-.94-.94-2.06-.94 2.06-2.06.94z\"/><path d=\"M17.41 7.96l-1.37-1.37c-.4-.4-.92-.59-1.43-.59-.52 0-1.04.2-1.43.59L10.3 9.45l-7.72 7.72c-.78.78-.78 2.05 0 2.83L4 21.41c.39.39.9.59 1.41.59.51 0 1.02-.2 1.41-.59l7.78-7.78 2.81-2.81c.8-.78.8-2.07 0-2.86zM5.41 20L4 18.59l7.72-7.72 1.47 1.35L5.41 20z\"/>\n",
              "  </svg>\n",
              "      </button>\n",
              "\n",
              "\n",
              "\n",
              "    <div id=\"df-02ad2981-2279-4b31-a6f5-a87a821b86ec\">\n",
              "      <button class=\"colab-df-quickchart\" onclick=\"quickchart('df-02ad2981-2279-4b31-a6f5-a87a821b86ec')\"\n",
              "              title=\"Suggest charts.\"\n",
              "              style=\"display:none;\">\n",
              "\n",
              "<svg xmlns=\"http://www.w3.org/2000/svg\" height=\"24px\"viewBox=\"0 0 24 24\"\n",
              "     width=\"24px\">\n",
              "    <g>\n",
              "        <path d=\"M19 3H5c-1.1 0-2 .9-2 2v14c0 1.1.9 2 2 2h14c1.1 0 2-.9 2-2V5c0-1.1-.9-2-2-2zM9 17H7v-7h2v7zm4 0h-2V7h2v10zm4 0h-2v-4h2v4z\"/>\n",
              "    </g>\n",
              "</svg>\n",
              "      </button>\n",
              "    </div>\n",
              "\n",
              "<style>\n",
              "  .colab-df-quickchart {\n",
              "    background-color: #E8F0FE;\n",
              "    border: none;\n",
              "    border-radius: 50%;\n",
              "    cursor: pointer;\n",
              "    display: none;\n",
              "    fill: #1967D2;\n",
              "    height: 32px;\n",
              "    padding: 0 0 0 0;\n",
              "    width: 32px;\n",
              "  }\n",
              "\n",
              "  .colab-df-quickchart:hover {\n",
              "    background-color: #E2EBFA;\n",
              "    box-shadow: 0px 1px 2px rgba(60, 64, 67, 0.3), 0px 1px 3px 1px rgba(60, 64, 67, 0.15);\n",
              "    fill: #174EA6;\n",
              "  }\n",
              "\n",
              "  [theme=dark] .colab-df-quickchart {\n",
              "    background-color: #3B4455;\n",
              "    fill: #D2E3FC;\n",
              "  }\n",
              "\n",
              "  [theme=dark] .colab-df-quickchart:hover {\n",
              "    background-color: #434B5C;\n",
              "    box-shadow: 0px 1px 3px 1px rgba(0, 0, 0, 0.15);\n",
              "    filter: drop-shadow(0px 1px 2px rgba(0, 0, 0, 0.3));\n",
              "    fill: #FFFFFF;\n",
              "  }\n",
              "</style>\n",
              "\n",
              "    <script>\n",
              "      async function quickchart(key) {\n",
              "        const containerElement = document.querySelector('#' + key);\n",
              "        const charts = await google.colab.kernel.invokeFunction(\n",
              "            'suggestCharts', [key], {});\n",
              "      }\n",
              "    </script>\n",
              "\n",
              "      <script>\n",
              "\n",
              "function displayQuickchartButton(domScope) {\n",
              "  let quickchartButtonEl =\n",
              "    domScope.querySelector('#df-02ad2981-2279-4b31-a6f5-a87a821b86ec button.colab-df-quickchart');\n",
              "  quickchartButtonEl.style.display =\n",
              "    google.colab.kernel.accessAllowed ? 'block' : 'none';\n",
              "}\n",
              "\n",
              "        displayQuickchartButton(document);\n",
              "      </script>\n",
              "      <style>\n",
              "    .colab-df-container {\n",
              "      display:flex;\n",
              "      flex-wrap:wrap;\n",
              "      gap: 12px;\n",
              "    }\n",
              "\n",
              "    .colab-df-convert {\n",
              "      background-color: #E8F0FE;\n",
              "      border: none;\n",
              "      border-radius: 50%;\n",
              "      cursor: pointer;\n",
              "      display: none;\n",
              "      fill: #1967D2;\n",
              "      height: 32px;\n",
              "      padding: 0 0 0 0;\n",
              "      width: 32px;\n",
              "    }\n",
              "\n",
              "    .colab-df-convert:hover {\n",
              "      background-color: #E2EBFA;\n",
              "      box-shadow: 0px 1px 2px rgba(60, 64, 67, 0.3), 0px 1px 3px 1px rgba(60, 64, 67, 0.15);\n",
              "      fill: #174EA6;\n",
              "    }\n",
              "\n",
              "    [theme=dark] .colab-df-convert {\n",
              "      background-color: #3B4455;\n",
              "      fill: #D2E3FC;\n",
              "    }\n",
              "\n",
              "    [theme=dark] .colab-df-convert:hover {\n",
              "      background-color: #434B5C;\n",
              "      box-shadow: 0px 1px 3px 1px rgba(0, 0, 0, 0.15);\n",
              "      filter: drop-shadow(0px 1px 2px rgba(0, 0, 0, 0.3));\n",
              "      fill: #FFFFFF;\n",
              "    }\n",
              "  </style>\n",
              "\n",
              "      <script>\n",
              "        const buttonEl =\n",
              "          document.querySelector('#df-209268a7-2a53-4936-b8ca-a10736560000 button.colab-df-convert');\n",
              "        buttonEl.style.display =\n",
              "          google.colab.kernel.accessAllowed ? 'block' : 'none';\n",
              "\n",
              "        async function convertToInteractive(key) {\n",
              "          const element = document.querySelector('#df-209268a7-2a53-4936-b8ca-a10736560000');\n",
              "          const dataTable =\n",
              "            await google.colab.kernel.invokeFunction('convertToInteractive',\n",
              "                                                     [key], {});\n",
              "          if (!dataTable) return;\n",
              "\n",
              "          const docLinkHtml = 'Like what you see? Visit the ' +\n",
              "            '<a target=\"_blank\" href=https://colab.research.google.com/notebooks/data_table.ipynb>data table notebook</a>'\n",
              "            + ' to learn more about interactive tables.';\n",
              "          element.innerHTML = '';\n",
              "          dataTable['output_type'] = 'display_data';\n",
              "          await google.colab.output.renderOutput(dataTable, element);\n",
              "          const docLink = document.createElement('div');\n",
              "          docLink.innerHTML = docLinkHtml;\n",
              "          element.appendChild(docLink);\n",
              "        }\n",
              "      </script>\n",
              "    </div>\n",
              "  </div>\n"
            ],
            "text/plain": [
              "   node  label                                           features\n",
              "0     0      2  [0, 0, 0, 0, 0, 0, 0, 0, 0, 0, 0, 0, 0, 0, 0, ...\n",
              "1     1      5  [0, 0, 0, 0, 0, 0, 0, 0, 0, 0, 0, 0, 1, 0, 0, ...\n",
              "2     2      4  [0, 0, 0, 0, 0, 0, 0, 0, 0, 0, 0, 0, 0, 0, 0, ...\n",
              "3     3      4  [0, 0, 0, 0, 0, 0, 0, 0, 0, 0, 0, 0, 0, 0, 0, ...\n",
              "4     4      3  [0, 0, 0, 0, 0, 0, 0, 0, 0, 0, 0, 0, 0, 0, 0, ..."
            ]
          },
          "execution_count": 7,
          "metadata": {},
          "output_type": "execute_result"
        }
      ],
      "source": [
        "df = pd.DataFrame(list(zip(nodes, labels,X)),columns =['node', 'label','features'])\n",
        "print(len(df))\n",
        "df.head()"
      ]
    },
    {
      "cell_type": "code",
      "execution_count": 8,
      "metadata": {
        "id": "k2wyd4obx_78"
      },
      "outputs": [],
      "source": [
        "Gcc = sorted(nx.connected_components(G), key=len, reverse=True)\n",
        "G = G.subgraph(Gcc[0])\n",
        "gcc_nodes = list(G.nodes)"
      ]
    },
    {
      "cell_type": "code",
      "execution_count": 9,
      "metadata": {
        "colab": {
          "base_uri": "https://localhost:8080/",
          "height": 330
        },
        "id": "CLloN8jSyBBn",
        "outputId": "8bd48cb1-082a-432b-c4eb-ab7654eff83e"
      },
      "outputs": [
        {
          "name": "stderr",
          "output_type": "stream",
          "text": [
            "<ipython-input-9-a01e0eb6d909>:2: SettingWithCopyWarning: \n",
            "A value is trying to be set on a copy of a slice from a DataFrame.\n",
            "Try using .loc[row_indexer,col_indexer] = value instead\n",
            "\n",
            "See the caveats in the documentation: https://pandas.pydata.org/pandas-docs/stable/user_guide/indexing.html#returning-a-view-versus-a-copy\n",
            "  df['node'] = list(range(len(df))) #rename nodes\n"
          ]
        },
        {
          "data": {
            "text/html": [
              "\n",
              "\n",
              "  <div id=\"df-7b40d5d5-dabe-429b-abcd-eff17fd6bb26\">\n",
              "    <div class=\"colab-df-container\">\n",
              "      <div>\n",
              "<style scoped>\n",
              "    .dataframe tbody tr th:only-of-type {\n",
              "        vertical-align: middle;\n",
              "    }\n",
              "\n",
              "    .dataframe tbody tr th {\n",
              "        vertical-align: top;\n",
              "    }\n",
              "\n",
              "    .dataframe thead th {\n",
              "        text-align: right;\n",
              "    }\n",
              "</style>\n",
              "<table border=\"1\" class=\"dataframe\">\n",
              "  <thead>\n",
              "    <tr style=\"text-align: right;\">\n",
              "      <th></th>\n",
              "      <th>node</th>\n",
              "      <th>label</th>\n",
              "      <th>features</th>\n",
              "    </tr>\n",
              "  </thead>\n",
              "  <tbody>\n",
              "    <tr>\n",
              "      <th>0</th>\n",
              "      <td>0</td>\n",
              "      <td>2</td>\n",
              "      <td>[0, 0, 0, 0, 0, 0, 0, 0, 0, 0, 0, 0, 0, 0, 0, ...</td>\n",
              "    </tr>\n",
              "    <tr>\n",
              "      <th>1</th>\n",
              "      <td>1</td>\n",
              "      <td>5</td>\n",
              "      <td>[0, 0, 0, 0, 0, 0, 0, 0, 0, 0, 0, 0, 1, 0, 0, ...</td>\n",
              "    </tr>\n",
              "    <tr>\n",
              "      <th>2</th>\n",
              "      <td>2</td>\n",
              "      <td>4</td>\n",
              "      <td>[0, 0, 0, 0, 0, 0, 0, 0, 0, 0, 0, 0, 0, 0, 0, ...</td>\n",
              "    </tr>\n",
              "    <tr>\n",
              "      <th>3</th>\n",
              "      <td>3</td>\n",
              "      <td>4</td>\n",
              "      <td>[0, 0, 0, 0, 0, 0, 0, 0, 0, 0, 0, 0, 0, 0, 0, ...</td>\n",
              "    </tr>\n",
              "    <tr>\n",
              "      <th>4</th>\n",
              "      <td>4</td>\n",
              "      <td>3</td>\n",
              "      <td>[0, 0, 0, 0, 0, 0, 0, 0, 0, 0, 0, 0, 0, 0, 0, ...</td>\n",
              "    </tr>\n",
              "  </tbody>\n",
              "</table>\n",
              "</div>\n",
              "      <button class=\"colab-df-convert\" onclick=\"convertToInteractive('df-7b40d5d5-dabe-429b-abcd-eff17fd6bb26')\"\n",
              "              title=\"Convert this dataframe to an interactive table.\"\n",
              "              style=\"display:none;\">\n",
              "\n",
              "  <svg xmlns=\"http://www.w3.org/2000/svg\" height=\"24px\"viewBox=\"0 0 24 24\"\n",
              "       width=\"24px\">\n",
              "    <path d=\"M0 0h24v24H0V0z\" fill=\"none\"/>\n",
              "    <path d=\"M18.56 5.44l.94 2.06.94-2.06 2.06-.94-2.06-.94-.94-2.06-.94 2.06-2.06.94zm-11 1L8.5 8.5l.94-2.06 2.06-.94-2.06-.94L8.5 2.5l-.94 2.06-2.06.94zm10 10l.94 2.06.94-2.06 2.06-.94-2.06-.94-.94-2.06-.94 2.06-2.06.94z\"/><path d=\"M17.41 7.96l-1.37-1.37c-.4-.4-.92-.59-1.43-.59-.52 0-1.04.2-1.43.59L10.3 9.45l-7.72 7.72c-.78.78-.78 2.05 0 2.83L4 21.41c.39.39.9.59 1.41.59.51 0 1.02-.2 1.41-.59l7.78-7.78 2.81-2.81c.8-.78.8-2.07 0-2.86zM5.41 20L4 18.59l7.72-7.72 1.47 1.35L5.41 20z\"/>\n",
              "  </svg>\n",
              "      </button>\n",
              "\n",
              "\n",
              "\n",
              "    <div id=\"df-3ef57658-97ef-4cc7-b199-ac4ff218bcdf\">\n",
              "      <button class=\"colab-df-quickchart\" onclick=\"quickchart('df-3ef57658-97ef-4cc7-b199-ac4ff218bcdf')\"\n",
              "              title=\"Suggest charts.\"\n",
              "              style=\"display:none;\">\n",
              "\n",
              "<svg xmlns=\"http://www.w3.org/2000/svg\" height=\"24px\"viewBox=\"0 0 24 24\"\n",
              "     width=\"24px\">\n",
              "    <g>\n",
              "        <path d=\"M19 3H5c-1.1 0-2 .9-2 2v14c0 1.1.9 2 2 2h14c1.1 0 2-.9 2-2V5c0-1.1-.9-2-2-2zM9 17H7v-7h2v7zm4 0h-2V7h2v10zm4 0h-2v-4h2v4z\"/>\n",
              "    </g>\n",
              "</svg>\n",
              "      </button>\n",
              "    </div>\n",
              "\n",
              "<style>\n",
              "  .colab-df-quickchart {\n",
              "    background-color: #E8F0FE;\n",
              "    border: none;\n",
              "    border-radius: 50%;\n",
              "    cursor: pointer;\n",
              "    display: none;\n",
              "    fill: #1967D2;\n",
              "    height: 32px;\n",
              "    padding: 0 0 0 0;\n",
              "    width: 32px;\n",
              "  }\n",
              "\n",
              "  .colab-df-quickchart:hover {\n",
              "    background-color: #E2EBFA;\n",
              "    box-shadow: 0px 1px 2px rgba(60, 64, 67, 0.3), 0px 1px 3px 1px rgba(60, 64, 67, 0.15);\n",
              "    fill: #174EA6;\n",
              "  }\n",
              "\n",
              "  [theme=dark] .colab-df-quickchart {\n",
              "    background-color: #3B4455;\n",
              "    fill: #D2E3FC;\n",
              "  }\n",
              "\n",
              "  [theme=dark] .colab-df-quickchart:hover {\n",
              "    background-color: #434B5C;\n",
              "    box-shadow: 0px 1px 3px 1px rgba(0, 0, 0, 0.15);\n",
              "    filter: drop-shadow(0px 1px 2px rgba(0, 0, 0, 0.3));\n",
              "    fill: #FFFFFF;\n",
              "  }\n",
              "</style>\n",
              "\n",
              "    <script>\n",
              "      async function quickchart(key) {\n",
              "        const containerElement = document.querySelector('#' + key);\n",
              "        const charts = await google.colab.kernel.invokeFunction(\n",
              "            'suggestCharts', [key], {});\n",
              "      }\n",
              "    </script>\n",
              "\n",
              "      <script>\n",
              "\n",
              "function displayQuickchartButton(domScope) {\n",
              "  let quickchartButtonEl =\n",
              "    domScope.querySelector('#df-3ef57658-97ef-4cc7-b199-ac4ff218bcdf button.colab-df-quickchart');\n",
              "  quickchartButtonEl.style.display =\n",
              "    google.colab.kernel.accessAllowed ? 'block' : 'none';\n",
              "}\n",
              "\n",
              "        displayQuickchartButton(document);\n",
              "      </script>\n",
              "      <style>\n",
              "    .colab-df-container {\n",
              "      display:flex;\n",
              "      flex-wrap:wrap;\n",
              "      gap: 12px;\n",
              "    }\n",
              "\n",
              "    .colab-df-convert {\n",
              "      background-color: #E8F0FE;\n",
              "      border: none;\n",
              "      border-radius: 50%;\n",
              "      cursor: pointer;\n",
              "      display: none;\n",
              "      fill: #1967D2;\n",
              "      height: 32px;\n",
              "      padding: 0 0 0 0;\n",
              "      width: 32px;\n",
              "    }\n",
              "\n",
              "    .colab-df-convert:hover {\n",
              "      background-color: #E2EBFA;\n",
              "      box-shadow: 0px 1px 2px rgba(60, 64, 67, 0.3), 0px 1px 3px 1px rgba(60, 64, 67, 0.15);\n",
              "      fill: #174EA6;\n",
              "    }\n",
              "\n",
              "    [theme=dark] .colab-df-convert {\n",
              "      background-color: #3B4455;\n",
              "      fill: #D2E3FC;\n",
              "    }\n",
              "\n",
              "    [theme=dark] .colab-df-convert:hover {\n",
              "      background-color: #434B5C;\n",
              "      box-shadow: 0px 1px 3px 1px rgba(0, 0, 0, 0.15);\n",
              "      filter: drop-shadow(0px 1px 2px rgba(0, 0, 0, 0.3));\n",
              "      fill: #FFFFFF;\n",
              "    }\n",
              "  </style>\n",
              "\n",
              "      <script>\n",
              "        const buttonEl =\n",
              "          document.querySelector('#df-7b40d5d5-dabe-429b-abcd-eff17fd6bb26 button.colab-df-convert');\n",
              "        buttonEl.style.display =\n",
              "          google.colab.kernel.accessAllowed ? 'block' : 'none';\n",
              "\n",
              "        async function convertToInteractive(key) {\n",
              "          const element = document.querySelector('#df-7b40d5d5-dabe-429b-abcd-eff17fd6bb26');\n",
              "          const dataTable =\n",
              "            await google.colab.kernel.invokeFunction('convertToInteractive',\n",
              "                                                     [key], {});\n",
              "          if (!dataTable) return;\n",
              "\n",
              "          const docLinkHtml = 'Like what you see? Visit the ' +\n",
              "            '<a target=\"_blank\" href=https://colab.research.google.com/notebooks/data_table.ipynb>data table notebook</a>'\n",
              "            + ' to learn more about interactive tables.';\n",
              "          element.innerHTML = '';\n",
              "          dataTable['output_type'] = 'display_data';\n",
              "          await google.colab.output.renderOutput(dataTable, element);\n",
              "          const docLink = document.createElement('div');\n",
              "          docLink.innerHTML = docLinkHtml;\n",
              "          element.appendChild(docLink);\n",
              "        }\n",
              "      </script>\n",
              "    </div>\n",
              "  </div>\n"
            ],
            "text/plain": [
              "   node  label                                           features\n",
              "0     0      2  [0, 0, 0, 0, 0, 0, 0, 0, 0, 0, 0, 0, 0, 0, 0, ...\n",
              "1     1      5  [0, 0, 0, 0, 0, 0, 0, 0, 0, 0, 0, 0, 1, 0, 0, ...\n",
              "2     2      4  [0, 0, 0, 0, 0, 0, 0, 0, 0, 0, 0, 0, 0, 0, 0, ...\n",
              "3     3      4  [0, 0, 0, 0, 0, 0, 0, 0, 0, 0, 0, 0, 0, 0, 0, ...\n",
              "4     4      3  [0, 0, 0, 0, 0, 0, 0, 0, 0, 0, 0, 0, 0, 0, 0, ..."
            ]
          },
          "execution_count": 9,
          "metadata": {},
          "output_type": "execute_result"
        }
      ],
      "source": [
        "df = df.loc[df['node'].isin(gcc_nodes)]\n",
        "df['node'] = list(range(len(df))) #rename nodes\n",
        "df.head()"
      ]
    },
    {
      "cell_type": "code",
      "execution_count": 10,
      "metadata": {
        "id": "gYVBD006yDNw"
      },
      "outputs": [],
      "source": [
        "train = df.groupby('label', group_keys=False).apply(lambda x: x.sample(20))\n",
        "G = nx.relabel_nodes(G, df['node'])"
      ]
    },
    {
      "cell_type": "code",
      "execution_count": 11,
      "metadata": {
        "id": "lID2yY74yFM_"
      },
      "outputs": [],
      "source": [
        "def create_transition_matrix(g):\n",
        "    vs = list(g.nodes)\n",
        "    n = len(vs)\n",
        "    adj = nx.adjacency_matrix(g)\n",
        "    transition_matrix = adj/adj.sum(axis = 1)\n",
        "    if sum(transition_matrix[0] != 1):\n",
        "      return transition_matrix.transpose()\n",
        "    else:\n",
        "      return transition_matrix"
      ]
    },
    {
      "cell_type": "code",
      "execution_count": 12,
      "metadata": {
        "id": "XcHWDwetKk_U"
      },
      "outputs": [],
      "source": [
        "def create_transition_matrix_same_label(g, label):\n",
        "  G2 = nx.Graph()\n",
        "  G2.add_nodes_from(G.nodes)\n",
        "  for i in range(len(G.nodes)):\n",
        "    if labels[i] == label:\n",
        "      for j in range(i, len(G.nodes)):\n",
        "        if labels[i] == labels[j]:\n",
        "          from_node = nodes[i]\n",
        "          #print(from_node)\n",
        "          to_node = nodes[j]\n",
        "          #print(to_node)\n",
        "          G2.add_edge(from_node, to_node)\n",
        "  adj = nx.adjacency_matrix(G2)\n",
        "  transition_matrix = adj/adj.sum(axis=1)\n",
        "  transition_matrix[np.isnan(transition_matrix)] = 0\n",
        "  #transition_matrix = transition_matrix.toarray()\n",
        "  return transition_matrix"
      ]
    },
    {
      "cell_type": "code",
      "execution_count": 13,
      "metadata": {
        "colab": {
          "base_uri": "https://localhost:8080/"
        },
        "id": "PWGkxmWlay6A",
        "outputId": "e8222d36-6e89-4c8e-9eda-be8f62777103"
      },
      "outputs": [
        {
          "name": "stdout",
          "output_type": "stream",
          "text": [
            "0\n",
            "1\n",
            "2\n",
            "3\n",
            "4\n",
            "5\n",
            "6\n"
          ]
        }
      ],
      "source": [
        "all_teleport_matrices = []\n",
        "for label in range(7):\n",
        "  temp_p = [0] * 2485\n",
        "  #G2 = nx.Graph()\n",
        "  #G2.add_nodes_from(G.nodes)\n",
        "  low = label*20\n",
        "  high = (label+1)*20\n",
        "  for i in range(140):\n",
        "    if low <= i < high:\n",
        "      temp_p[train['node'].iloc[i]] = 1/20\n",
        "      #for j in range(i, 140):\n",
        "        #if label*20 <= i < (label+1)*20:\n",
        "          #from_node = train['node'].iloc[i]\n",
        "          #to_node = train['node'].iloc[j]\n",
        "          #print(\"from_node\", from_node, \" to_node \", to_node)\n",
        "          #G2.add_edge(from_node, to_node)\n",
        "          #print(\"edge\")\n",
        "        #if train['label'].iloc[i] == train['label'].iloc[j]:\n",
        "          #print(labels[i])\n",
        "          #print(train['label'].iloc[i])\n",
        "          #print(train['label'].iloc[j])\n",
        "          #print(labels[j])\n",
        "          #from_node = train['node'].iloc[i]\n",
        "          #print(from_node)\n",
        "          #to_node = train['node'].iloc[j]\n",
        "          #print(to_node)\n",
        "          #G2.add_edge(from_node, to_node)\n",
        "  #adj = nx.adjacency_matrix(G2)\n",
        "  #print(adj)\n",
        "  #transition_matrix = adj/adj.sum(axis=1)\n",
        "  #print(transition_matrix)\n",
        "  #transition_matrix[np.isnan(transition_matrix)] = 0\n",
        "  #print(transition_matrix)\n",
        "  #transition_matrix = transition_matrix.toarray()\n",
        "  #all_teleport_matrices.append(transition_matrix)\n",
        "  #print(transition_matrix.transpose())\n",
        "  all_teleport_matrices.append(temp_p)\n",
        "  print(label)"
      ]
    },
    {
      "cell_type": "code",
      "execution_count": 14,
      "metadata": {
        "id": "M4x7CW2HyGS_"
      },
      "outputs": [],
      "source": [
        "def random_walk(g, num_steps, start_node, transition_matrix = None):\n",
        "  if transition_matrix is None:\n",
        "    transition_matrix = create_transition_matrix(g)\n",
        "  end_nodes = []\n",
        "  v = start_node\n",
        "  #print(transition_matrix)\n",
        "  for i in range(num_steps) :\n",
        "    #temp = []\n",
        "    #v.astype(int)\n",
        "    #for trow in transition_matrix:\n",
        "      #print(trow[v])\n",
        "      #temp.append(trow[v])\n",
        "    PMF = transition_matrix[v,]#temp   #transition_matrix[v,]\n",
        "    #print(sum(PMF))\n",
        "    temp2 = np.random.choice(range(g.number_of_nodes()), 1, p = PMF)\n",
        "    temp2.astype(int)\n",
        "    #print(temp2[0])\n",
        "    v=temp2[0]\n",
        "    #end_nodes.append(v)\n",
        "  #print(end_nodes)\n",
        "  return v\n",
        "  #perform a random walk\n",
        "  #return v"
      ]
    },
    {
      "cell_type": "code",
      "execution_count": 21,
      "metadata": {
        "id": "QqEe5qiXyHbR"
      },
      "outputs": [],
      "source": [
        "seeds_dict = {predicted:list(train[train['label'] == predicted]['node']) for predicted in range(7)}\n",
        "\n",
        "def random_walk_with_teleportation(g, num_steps, start_node, tp, predicted, transition_matrix, transition_matrix_no_teleport):\n",
        "  #transition_matrix_no_teleport = create_transition_matrix(g)\n",
        "  #transition_matrix_no_teleport = transition_matrix_no_teleport.toarray()\n",
        "  #transition_matrix = transition_matrix.toarray()\n",
        "  end_nodes = []\n",
        "  v = start_node\n",
        "  for i in range(num_steps) :\n",
        "    if rand.random() >= tp :\n",
        "      PMF = transition_matrix_no_teleport[v,]\n",
        "      temp = np.random.choice(range(g.number_of_nodes()), 1, p = PMF)\n",
        "      temp.astype(int)\n",
        "      v=temp[0]\n",
        "    else :\n",
        "      PMF = transition_matrix\n",
        "      temp = np.random.choice(range(g.number_of_nodes()), 1, p = PMF)\n",
        "      temp.astype(int)\n",
        "      v=temp[0]\n",
        "    #end_nodes[[i]] = v\n",
        "  return v\n",
        "  #modify random walk code to add teleportation.\n",
        "  #you can only teleport to a node belonging to the same class as the start node\n",
        "\n",
        "\n",
        "  #return v\n"
      ]
    },
    {
      "cell_type": "code",
      "execution_count": null,
      "metadata": {
        "colab": {
          "base_uri": "https://localhost:8080/",
          "height": 415
        },
        "id": "ZCTCdP14yIpb",
        "outputId": "9d1be15a-b456-424b-855a-8984e6b2a97d"
      },
      "outputs": [],
      "source": [
        "#pagerank. NO teleportation, NO tfidf.\n",
        "transition_matrix = create_transition_matrix(G)\n",
        "\n",
        "num_samples = 1000\n",
        "num_walk_steps = 100\n",
        "\n",
        "visiting_freq_label = []\n",
        "for i in range(transition_matrix.shape[0]):\n",
        "  visiting_freq_label.append([0,0,0,0,0,0,0])\n",
        "\n",
        "visiting_freq = [0 for i in range(transition_matrix.shape[0])]\n",
        "\n",
        "\n",
        "for train_node,predicted in zip(train['node'],train['label']):\n",
        "  #print (train_node,predicted)\n",
        "  for i in range(num_samples):\n",
        "      #print(i)\n",
        "      start_point = train_node\n",
        "      end_node = random_walk(G, num_walk_steps, start_point, transition_matrix)\n",
        "      visiting_freq_label[end_node][predicted] += 1\n",
        "      visiting_freq[end_node] +=1"
      ]
    },
    {
      "cell_type": "code",
      "execution_count": null,
      "metadata": {
        "colab": {
          "base_uri": "https://localhost:8080/"
        },
        "id": "1eOZdq8GyKGZ",
        "outputId": "67e220e3-93bb-45a8-f162-4c7125721dbe"
      },
      "outputs": [],
      "source": [
        "count = 0 #these many nodes remain unvisited.\n",
        "for vf in visiting_freq:\n",
        "  if vf ==0:\n",
        "    count+=1\n",
        "print('unvisited = ', count)\n",
        "visiting_freq_label = np.asarray(visiting_freq_label)\n",
        "preds = np.argmax(visiting_freq_label,axis = 1)\n",
        "print(classification_report(df['label'], preds))\n",
        "accuracy_score(df['label'], preds)"
      ]
    },
    {
      "cell_type": "code",
      "execution_count": null,
      "metadata": {
        "colab": {
          "base_uri": "https://localhost:8080/"
        },
        "id": "KGqWeGijyLEx",
        "outputId": "b4db7a8e-9631-427c-99d6-2a9d7978aaec"
      },
      "outputs": [],
      "source": [
        "#pagerank. WITH telportation, without tfidf\n",
        "\n",
        "#repeat above expeiment but this time use the teleportation random walk\n",
        "transition_matrix = create_transition_matrix(G)\n",
        "#get metrics\n",
        "\n",
        "num_samples = 1000\n",
        "num_walk_steps = 100\n",
        "\n",
        "visiting_freq_label = []\n",
        "for i in range(transition_matrix.shape[0]):\n",
        "  visiting_freq_label.append([0,0,0,0,0,0,0])\n",
        "\n",
        "visiting_freq = [0 for i in range(transition_matrix.shape[0])]\n",
        "\n",
        "label_visit = [0]*7\n",
        "\n",
        "deletelater = 0\n",
        "\n",
        "for train_node,predicted in zip(train['node'],train['label']):\n",
        "  #print (train_node,predicted)\n",
        "  #teleport_matrix = create_transition_matrix_same_label(G, labels[start_point])\n",
        "  print(deletelater)\n",
        "  deletelater += 1\n",
        "  teleport_matrix = all_teleport_matrices[labels[train_node]]\n",
        "  for i in range(num_samples):\n",
        "      #print(i)\n",
        "      start_point = train_node\n",
        "\n",
        "      end_node = random_walk_with_teleportation(G, num_walk_steps, start_point, 0, predicted, teleport_matrix, transition_matrix)\n",
        "      visiting_freq_label[end_node][predicted] += 1\n",
        "      visiting_freq[end_node] +=1\n",
        "      visit_index = labels[end_node]\n",
        "      label_visit[visit_index] += 1"
      ]
    },
    {
      "cell_type": "code",
      "execution_count": null,
      "metadata": {
        "colab": {
          "base_uri": "https://localhost:8080/"
        },
        "id": "orqnfdVr8EeG",
        "outputId": "f663b23b-a4e7-4739-9aa7-61a8fdd8f321"
      },
      "outputs": [],
      "source": [
        "count = 0 #these many nodes remain unvisited.\n",
        "for vf in visiting_freq:\n",
        "  if vf ==0:\n",
        "    count+=1\n",
        "print('unvisited = ', count)\n",
        "visiting_freq_label = np.asarray(visiting_freq_label)\n",
        "preds = np.argmax(visiting_freq_label,axis = 1)\n",
        "print(classification_report(df['label'], preds))\n",
        "accuracy_score(df['label'], preds)\n",
        "print(label_visit)"
      ]
    },
    {
      "cell_type": "code",
      "execution_count": null,
      "metadata": {
        "id": "Sx7-HcoDyLmR"
      },
      "outputs": [],
      "source": [
        "vs = list(G.nodes)\n",
        "n = len(vs)\n",
        "adj = nx.adjacency_matrix(G)\n",
        "transition = np.zeros((len(G.nodes), len(G.nodes)))\n",
        "\n",
        "temp = df['features']\n",
        "for n1 in G.nodes:\n",
        "  #print(n1)\n",
        "  idx = df.index[df['node']==n1].values[0]\n",
        "  n1_features = temp[idx]\n",
        "  for n2 in G.nodes:\n",
        "    if G.has_edge(n1, n2):\n",
        "      idx2 = df.index[df['node']==n2].values[0]\n",
        "      #print(idx2[0])\n",
        "      n2_features = temp[idx2]\n",
        "      #print(n2_features)\n",
        "      #print(dot(n1_features, n2_features))\n",
        "      #print(norm(n1_features)*norm(n2_features))\n",
        "      cos_sim = dot(n1_features, n2_features)/(norm(n1_features)*norm(n2_features))\n",
        "      #cos_sim = cosine_similarity(n1_features, n2_features)\n",
        "      #print(cos_sim)\n",
        "      transition[n1, n2] = np.exp(cos_sim)\n",
        "transition = transition/transition.sum(axis=1)\n",
        "if (transition.sum() != 1):\n",
        "  transition = transition.transpose()\n",
        "#for n1 in nodes:\n",
        "  #for n2 in nodes:\n",
        "    # if there is an edge between n1 and n2:\n",
        "      # cos_sim = compute cosine similarity between features of n1 and n2\n",
        "      # transition[n1,n2] = np.exp(cos_sim) #neumerator of softmax. #why do we need softmax?\n",
        "#divide the values in transition by denominator of softmax. how will you do this?"
      ]
    },
    {
      "cell_type": "code",
      "execution_count": null,
      "metadata": {
        "colab": {
          "base_uri": "https://localhost:8080/"
        },
        "id": "yk4IIgmCyNAf",
        "outputId": "d82f99cd-fc13-4a05-e7fb-1e8306e91b5f"
      },
      "outputs": [],
      "source": [
        "#pagerank. Without teleportation. WITH TFIDF\n",
        "transition_matrix = transition\n",
        "\n",
        "#perfrom pagerank using our tf_idf based transition matrix\n",
        "#use randon walk without teleporation\n",
        "#get metrics\n",
        "num_samples = 1000\n",
        "num_walk_steps = 100\n",
        "\n",
        "visiting_freq_label = []\n",
        "for i in range(transition_matrix.shape[0]):\n",
        "  visiting_freq_label.append([0,0,0,0,0,0,0])\n",
        "\n",
        "visiting_freq = [0 for i in range(transition_matrix.shape[0])]\n",
        "\n",
        "label_visit = [0]*7\n",
        "\n",
        "deletelater = 0\n",
        "for train_node,predicted in zip(train['node'],train['label']):\n",
        "  #print (train_node,predicted)\n",
        "  print(deletelater)\n",
        "  deletelater += 1\n",
        "  for i in range(num_samples):\n",
        "      #print(i)\n",
        "      start_point = train_node\n",
        "      end_node = random_walk(G, num_walk_steps, start_point, transition_matrix)\n",
        "      visiting_freq_label[end_node][predicted] += 1\n",
        "      visiting_freq[end_node] +=1\n",
        "      label_visit[visit_index] += 1"
      ]
    },
    {
      "cell_type": "code",
      "execution_count": null,
      "metadata": {
        "colab": {
          "base_uri": "https://localhost:8080/"
        },
        "id": "WxwmMc5DAuTn",
        "outputId": "cbafc3e0-9612-4fcb-b349-e97114c9fc9a"
      },
      "outputs": [],
      "source": [
        "count = 0 #these many nodes remain unvisited.\n",
        "for vf in visiting_freq:\n",
        "  if vf ==0:\n",
        "    count+=1\n",
        "print('unvisited = ', count)\n",
        "visiting_freq_label = np.asarray(visiting_freq_label)\n",
        "preds = np.argmax(visiting_freq_label,axis = 1)\n",
        "print(classification_report(df['label'], preds))\n",
        "accuracy_score(df['label'], preds)\n",
        "print(label_visit)"
      ]
    },
    {
      "cell_type": "code",
      "execution_count": null,
      "metadata": {
        "colab": {
          "base_uri": "https://localhost:8080/",
          "height": 235
        },
        "id": "9m1ES2afyOUm",
        "outputId": "93e8a1e0-0819-49ed-d217-7503fde67e2a"
      },
      "outputs": [],
      "source": [
        "#pagerank. WITH teleportation WITH TFIDF\n",
        "transition_matrix = transition\n",
        "\n",
        "#same as above, except use random walk with teleportation\n",
        "#get metrics\n",
        "num_samples = 1000\n",
        "num_walk_steps = 100\n",
        "\n",
        "visiting_freq_label = []\n",
        "for i in range(transition_matrix.shape[0]):\n",
        "  visiting_freq_label.append([0,0,0,0,0,0,0])\n",
        "\n",
        "visiting_freq = [0 for i in range(transition_matrix.shape[0])]\n",
        "\n",
        "#deletelater = 0\n",
        "\n",
        "label_visit = [0]*7\n",
        "\n",
        "for train_node,predicted in zip(train['node'],train['label']):\n",
        "  #print (train_node,predicted)\n",
        "  #teleport_matrix = create_transition_matrix_same_label(G, labels[start_point])\n",
        "  #print(deletelater)\n",
        "  deletelater += 1\n",
        "  teleport_matrix = all_teleport_matrices[labels[train_node]]\n",
        "  for i in range(num_samples):\n",
        "      #print(i)\n",
        "      start_point = train_node\n",
        "\n",
        "      end_node = random_walk_with_teleportation(G, num_walk_steps, start_point, 0.2, predicted, teleport_matrix, transition_matrix)\n",
        "      visiting_freq_label[end_node][predicted] += 1\n",
        "      visiting_freq[end_node] +=1\n",
        "      label_visit[visit_index] += 1"
      ]
    },
    {
      "cell_type": "code",
      "execution_count": null,
      "metadata": {
        "colab": {
          "base_uri": "https://localhost:8080/"
        },
        "id": "jKqvSlGNYw3J",
        "outputId": "955ef5fc-036d-40d4-b9dc-a0a04b70d1fb"
      },
      "outputs": [],
      "source": [
        "count = 0 #these many nodes remain unvisited.\n",
        "for vf in visiting_freq:\n",
        "  if vf ==0:\n",
        "    count+=1\n",
        "print('unvisited = ', count)\n",
        "visiting_freq_label = np.asarray(visiting_freq_label)\n",
        "preds = np.argmax(visiting_freq_label,axis = 1)\n",
        "print(classification_report(df['label'], preds))\n",
        "accuracy_score(df['label'], preds)\n",
        "print(label_visit)"
      ]
    }
  ],
  "metadata": {
    "accelerator": "GPU",
    "colab": {
      "gpuType": "T4",
      "provenance": []
    },
    "kernelspec": {
      "display_name": "Python 3",
      "name": "python3"
    },
    "language_info": {
      "name": "python"
    }
  },
  "nbformat": 4,
  "nbformat_minor": 0
}
